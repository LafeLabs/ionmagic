{
 "cells": [
  {
   "cell_type": "markdown",
   "metadata": {},
   "source": [
    "x is the value of the number pulled off the ADC.  v is the set voltage, in the units of the ADC, i.e. from 0 to 1023.  By default in the first version I'm setting v to 2.25 V, which is "
   ]
  },
  {
   "cell_type": "code",
   "execution_count": 1,
   "metadata": {
    "collapsed": true
   },
   "outputs": [],
   "source": [
    "%matplotlib inline\n",
    "from pylab import *"
   ]
  },
  {
   "cell_type": "code",
   "execution_count": 2,
   "metadata": {
    "collapsed": false
   },
   "outputs": [
    {
     "name": "stdout",
     "output_type": "stream",
     "text": [
      "460\n"
     ]
    }
   ],
   "source": [
    "v = int(2.25*1023/5.0)\n",
    "print(v)"
   ]
  },
  {
   "cell_type": "markdown",
   "metadata": {},
   "source": [
    "delta is always set to 10 percent of v, so keping the same units, delta = 46.  In ADC units then the system will follow the equation:\n",
    "\n",
    "$x(t) = 1023*(1 - e^{-t/\\tau})$\n",
    "\n",
    "from $v$ to $v + \\delta$, going up in the positive direction and \n",
    "\n",
    "$x(t) = 1023*e^{-t/\\tau}$\n",
    "\n",
    "over the same range in the opposite direction, both with some offset in time."
   ]
  },
  {
   "cell_type": "markdown",
   "metadata": {},
   "source": [
    "More accurately for the down going part it is \n",
    "\n",
    "$x(t) = (v+\\delta)*e^{-t/\\tau} = 506*e^{-t/\\tau}$\n",
    "\n",
    "and the up going part is \n",
    "\n",
    "$x(t) = 1023 - (1023 - 460)*e^{-t/\\tau} = 1023 - (1023 - v)*e^{-t/\\tau}$"
   ]
  },
  {
   "cell_type": "markdown",
   "metadata": {},
   "source": [
    "$\\frac{\\Delta x}{\\Delta t} \\approx -\\frac{506}{\\tau}$\n",
    "\n",
    "and \n",
    "\n",
    "$\\frac{\\Delta x}{\\Delta t} \\approx \\frac{563}{\\tau}$"
   ]
  },
  {
   "cell_type": "code",
   "execution_count": 3,
   "metadata": {
    "collapsed": false
   },
   "outputs": [
    {
     "data": {
      "text/plain": [
       "[0, 25, 460, 512]"
      ]
     },
     "execution_count": 3,
     "metadata": {},
     "output_type": "execute_result"
    },
    {
     "data": {
      "image/png": "[encoded data removed]",
      "text/plain": [
       "<matplotlib.figure.Figure at 0x103e8ef10>"
      ]
     },
     "metadata": {},
     "output_type": "display_data"
    }
   ],
   "source": [
    "t = linspace(0,25,200)\n",
    "tau = 250\n",
    "x1 = 1023 - 563*exp(-(t)/tau)\n",
    "x2 = 506*exp(-(t)/tau)\n",
    "plot(t,x1,'x',t,x2,'o')\n",
    "axis([0,25,460,512])"
   ]
  },
  {
   "cell_type": "code",
   "execution_count": null,
   "metadata": {
    "collapsed": false
   },
   "outputs": [],
   "source": []
  },
  {
   "cell_type": "code",
   "execution_count": null,
   "metadata": {
    "collapsed": true
   },
   "outputs": [],
   "source": []
  }
 ],
 "metadata": {
  "kernelspec": {
   "display_name": "Python 2",
   "language": "python",
   "name": "python2"
  },
  "language_info": {
   "codemirror_mode": {
    "name": "ipython",
    "version": 2
   },
   "file_extension": ".py",
   "mimetype": "text/x-python",
   "name": "python",
   "nbconvert_exporter": "python",
   "pygments_lexer": "ipython2",
   "version": "2.7.10"
  }
 },
 "nbformat": 4,
 "nbformat_minor": 0
}
